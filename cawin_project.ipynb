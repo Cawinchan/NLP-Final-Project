{
 "cells": [
  {
   "cell_type": "code",
   "execution_count": 11,
   "metadata": {},
   "outputs": [],
   "source": [
    "import numpy as np \n",
    "\n",
    "train_dir = \"dataset/train\"\n",
    "test_dir = \"dataset/dev.in\"\n",
    "\n",
    "\n",
    "START_STATE_KEY = \"START\"\n",
    "STOP_STATE_KEY = \"STOP\"\n",
    "\n",
    "def MLE_emission_parameters(train_dir=\"dataset/train\"):\n",
    "    ''' Calculates the emission parameters by count(y->x)/count(y)\n",
    "    \n",
    "    :param train_dir: our train file path to either ES or RU\n",
    "    :type train_dir: str\n",
    "\n",
    "    :return: count_y_dict, Count(y), keys are word '!', value MLE\n",
    "    :rtype: dict\n",
    "\n",
    "    :return: count_y_to_x_dict, Count(y->x), keys are tuples of word and label ('!', 'O'), value MLE\n",
    "    :rtype: dict    \n",
    "\n",
    "    :return: emission_dict, Count(y->x)/Count(y), keys are tuples of word and label ('!', 'O'), value MLE\n",
    "    :rtype: dict\n",
    "    \n",
    "    '''\n",
    "    count_y_dict = {}\n",
    "    count_y_to_x_dict = {}\n",
    "    emission_tranisition_dict = {}\n",
    "\n",
    "    with open(train_dir, \"r\", encoding=\"utf8\") as f:\n",
    "        for line in f:\n",
    "            # Parse each line\n",
    "            if len(line.split(\" \")) == 2:\n",
    "                word, label = line.replace(\"\\n\",\"\").split(\" \")\n",
    "            else:\n",
    "                # skip lines with space \n",
    "                continue\n",
    "            if label in count_y_dict:\n",
    "                count_y_dict[label] = count_y_dict.get(label) + 1\n",
    "            else:\n",
    "                count_y_dict[label] = 1\n",
    "            if (word,label) in count_y_to_x_dict:\n",
    "                count_y_to_x_dict[(word,label)] = count_y_to_x_dict.get((word,label)) + 1\n",
    "            else:\n",
    "                count_y_to_x_dict[(word,label)] = 1\n",
    "    # print(\"count(y): \\n\", count_y_dict, \"\\n\")\n",
    "    # print(\"count(y->x): \\n\",list(count_y_to_x_dict.items())[0:5], len(count_y_to_x_dict), \"\\n\")\n",
    "    # Calculate our emission\n",
    "    for key, value in count_y_to_x_dict.items(): # Default is iterate keys()\n",
    "        word = key[0]\n",
    "        label = key[1]\n",
    "        string = f\"emission: {label}+{word}\" \n",
    "        prob =  value / count_y_dict.get(label)\n",
    "        emission_tranisition_dict[string] = np.where(prob != 0, np.log(prob), float(\"-inf\"))\n",
    "    # print(\"MLE: \\n\",list(emission_tranisition_dict.items())[0:5],len(emission_tranisition_dict) ,\"\\n\")\n",
    "\n",
    "    return count_y_dict, count_y_to_x_dict, emission_tranisition_dict"
   ]
  },
  {
   "cell_type": "code",
   "execution_count": 12,
   "metadata": {},
   "outputs": [
    {
     "name": "stdout",
     "output_type": "stream",
     "text": [
      "[('emission: O+All', array(-9.01768561)), ('emission: O+in', array(-4.5403488)), ('emission: O+all', array(-5.78556456)), ('emission: O+,', array(-3.24728345)), ('emission: O+the', array(-3.09164887))]\n"
     ]
    }
   ],
   "source": [
    "count_y_dict, count_y_to_x_dict, emission_tranisition_dict = MLE_emission_parameters(train_dir)\n",
    "print(list(emission_tranisition_dict.items())[0:5])"
   ]
  },
  {
   "cell_type": "code",
   "execution_count": 13,
   "metadata": {},
   "outputs": [],
   "source": [
    "def  MLE_transition_parameters(emission_tranisition_dict, train_dir=\"dataset/train\"):\n",
    "    ''' Calculates the transition parameters by count(y->x)/count(y)\n",
    "    \n",
    "    :param train_dir: our train file path to either ES or RU\n",
    "    :type train_dir: str\n",
    "\n",
    "    :return: count_y_dict, Count(yi-1), keys are word '!', value MLE\n",
    "    :rtype: dict\n",
    "\n",
    "    :return: count_y_to_y_dict, Count(yi-1,yi), keys are tuples of word and label ('!', 'O'), value MLE\n",
    "    :rtype: dict    \n",
    "\n",
    "    :return: transition_dict, Count(yi-1, yi)/Count(yi-1), keys are tuples of word and label ('!', 'O'), value MLE\n",
    "    :rtype: dict\n",
    "\n",
    "    '''\n",
    "    count_y_dict = {}\n",
    "    count_y_to_y_dict = {}\n",
    "    prev_label = \"\"\n",
    "\n",
    "    with open(train_dir, \"r\", encoding=\"utf8\") as f:\n",
    "        for line in f:\n",
    "            # Parse each line\n",
    "            if len(line.split(\" \")) == 2:\n",
    "                _, label = line.replace(\"\\n\",\"\").split(\" \")\n",
    "            else:\n",
    "                label = ''\n",
    "            if label == '' and prev_label != '':\n",
    "                count_y_dict[\"STOP\"] = count_y_dict.get(\"STOP\") + 1 if count_y_dict.get(\"STOP\") else 1\n",
    "            elif label !='':\n",
    "                if prev_label == '':\n",
    "                    count_y_dict[\"START\"] = count_y_dict.get(\"START\") + 1 if count_y_dict.get(\"START\") else 1\n",
    "                if label in count_y_dict:\n",
    "                    count_y_dict[label] = count_y_dict.get(label)+1\n",
    "                else:\n",
    "                    count_y_dict[label] = 1\n",
    "            if prev_label == '' and label != '':\n",
    "                if (\"START\", label) in count_y_to_y_dict:\n",
    "                    count_y_to_y_dict[(\"START\", label)] = count_y_to_y_dict.get((\"START\", label)) + 1\n",
    "                else:\n",
    "                    count_y_to_y_dict[(\"START\", label)] = 1\n",
    "            elif label == '' and prev_label != '':\n",
    "                if (prev_label, \"STOP\") in count_y_to_y_dict:\n",
    "                    count_y_to_y_dict[(prev_label, \"STOP\")] = count_y_to_y_dict.get((prev_label, \"STOP\")) + 1\n",
    "                else:\n",
    "                    count_y_to_y_dict[(prev_label, \"STOP\")] = 1\n",
    "            elif label != '' and prev_label != '':\n",
    "                if (prev_label, label) in count_y_to_y_dict:\n",
    "                    count_y_to_y_dict[(prev_label, label)] = count_y_to_y_dict.get((prev_label, label)) + 1\n",
    "                else:\n",
    "                    count_y_to_y_dict[(prev_label, label)] = 1\n",
    "            prev_label = label\n",
    "    # print(\"count(y): \\n\", count_y_dict, \"\\n\")\n",
    "    # print(\"count(y->x): \\n\",list(count_y_to_y_dict.items()), len(count_y_to_y_dict), \"\\n\")\n",
    "    # Calculate our transition\n",
    "    for key, value in count_y_to_y_dict.items(): # Default is iterate keys()\n",
    "        prev_label = key[0]\n",
    "        label = key[1]\n",
    "        string = f\"transition: {prev_label}+{label}\" \n",
    "        prob =  value / count_y_dict.get(prev_label)\n",
    "        emission_tranisition_dict[string] = np.where(prob != 0, np.log(prob), float(\"-inf\"))\n",
    "    # print(\"MLE: \\n\",list(emission_tranisition_dict.items()), len(emission_tranisition_dict) ,\"\\n\")\n",
    "\n",
    "    return count_y_dict, count_y_to_y_dict, emission_tranisition_dict"
   ]
  },
  {
   "cell_type": "code",
   "execution_count": 14,
   "metadata": {},
   "outputs": [
    {
     "data": {
      "text/plain": [
       "[('transition: B-positive+STOP', array(-4.25268812)),\n",
       " ('transition: I-positive+STOP', array(-4.56434819)),\n",
       " ('transition: B-positive+B-positive', array(-7.08590146)),\n",
       " ('transition: B-neutral+STOP', array(-3.24519313)),\n",
       " ('transition: B-negative+STOP', array(-4.83628191))]"
      ]
     },
     "execution_count": 14,
     "metadata": {},
     "output_type": "execute_result"
    }
   ],
   "source": [
    "count_y_dict, count_y_to_y_dict, emission_tranisition_dict = MLE_transition_parameters(emission_tranisition_dict, train_dir)\n",
    "list(emission_tranisition_dict.items())[-5:]"
   ]
  },
  {
   "cell_type": "code",
   "execution_count": null,
   "metadata": {},
   "outputs": [],
   "source": []
  }
 ],
 "metadata": {
  "kernelspec": {
   "display_name": "Python 3.8.5 ('base')",
   "language": "python",
   "name": "python3"
  },
  "language_info": {
   "codemirror_mode": {
    "name": "ipython",
    "version": 3
   },
   "file_extension": ".py",
   "mimetype": "text/x-python",
   "name": "python",
   "nbconvert_exporter": "python",
   "pygments_lexer": "ipython3",
   "version": "3.8.5"
  },
  "orig_nbformat": 4,
  "vscode": {
   "interpreter": {
    "hash": "78a5ae3d11c85b6c890ed05d5a681e432b1936b8567a47c6f4b053e6e90d1449"
   }
  }
 },
 "nbformat": 4,
 "nbformat_minor": 2
}
